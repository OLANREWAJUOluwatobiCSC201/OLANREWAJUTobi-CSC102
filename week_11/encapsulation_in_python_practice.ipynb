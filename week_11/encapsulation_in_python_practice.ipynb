{
 "cells": [
  {
   "cell_type": "code",
   "execution_count": 3,
   "id": "124c9b7c",
   "metadata": {},
   "outputs": [],
   "source": [
    "class Employee:\n",
    "    def __init__(self, name, project):\n",
    "        self.name = name\n",
    "        self.project = project\n",
    "        \n",
    "    def work(self):\n",
    "        print(self.name, 'is working on', self.project)"
   ]
  },
  {
   "cell_type": "code",
   "execution_count": 8,
   "id": "d9570596",
   "metadata": {},
   "outputs": [
    {
     "name": "stdout",
     "output_type": "stream",
     "text": [
      "What is your name ? Tobi\n",
      "How much do you earn?  50000\n",
      "What do you do for a living  i make money\n"
     ]
    }
   ],
   "source": [
    "def __init__(self,name,salary,project):\n",
    "    self.name = name\n",
    "    self.project = project\n",
    "    self.salary = salary\n",
    "    \n",
    "def show(self):\n",
    "    print(\"\\nName: \", self.name, '\\nSalary:', 'N'+str(self.salary))\n",
    "    \n",
    "def work(self):\n",
    "    print(self.name, 'is working on', self.project)\n",
    "\n",
    "name = input(\"What is your name ?  \")\n",
    "salary = int(input(\"How much do you earn?  \"))\n",
    "project = input(\"What do you do for a living?  \")\n",
    "\n"
   ]
  },
  {
   "cell_type": "code",
   "execution_count": null,
   "id": "1f2d4188",
   "metadata": {},
   "outputs": [],
   "source": []
  }
 ],
 "metadata": {
  "kernelspec": {
   "display_name": "Python 3 (ipykernel)",
   "language": "python",
   "name": "python3"
  },
  "language_info": {
   "codemirror_mode": {
    "name": "ipython",
    "version": 3
   },
   "file_extension": ".py",
   "mimetype": "text/x-python",
   "name": "python",
   "nbconvert_exporter": "python",
   "pygments_lexer": "ipython3",
   "version": "3.9.7"
  }
 },
 "nbformat": 4,
 "nbformat_minor": 5
}
