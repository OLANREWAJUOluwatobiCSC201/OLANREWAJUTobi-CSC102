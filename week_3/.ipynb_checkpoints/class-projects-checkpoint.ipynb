{
 "cells": [
  {
   "cell_type": "markdown",
   "id": "dc113af6",
   "metadata": {},
   "source": [
    "# Name: OLANREWAJU Gregory Oluwatobi"
   ]
  },
  {
   "cell_type": "markdown",
   "id": "3a73aad1",
   "metadata": {},
   "source": [
    "# Mat no: 21120612487"
   ]
  },
  {
   "cell_type": "markdown",
   "id": "8516bf16",
   "metadata": {},
   "source": [
    "# Email: rabiddawgz2005@gmail.com"
   ]
  },
  {
   "cell_type": "markdown",
   "id": "9fa3fbd7",
   "metadata": {},
   "source": [
    "## PROJECT1(Pseudocode)\n",
    "###### COMPUTE number_1 = int(INPUT)\n",
    "###### IF number_1 > 17:\n",
    "######        output_1 = 2*(number_1 - 17)\n",
    "###### ELSE:\n",
    "######        output_1 = number_1 - 17\n",
    "        \n",
    "###### PRINT output_1\n",
    "\n",
    "        \n",
    "\n"
   ]
  },
  {
   "cell_type": "code",
   "execution_count": 18,
   "id": "ad76b795",
   "metadata": {},
   "outputs": [
    {
     "name": "stdout",
     "output_type": "stream",
     "text": [
      "number_1: 22\n",
      "10\n"
     ]
    }
   ],
   "source": [
    "number_1 = int(input(\"number_1: \"))\n",
    "if number_1 > 17:\n",
    "        output_1 = 2*(number_1 - 17)\n",
    "else:\n",
    "        output_1 = number_1 - 17\n",
    "print(output_1)"
   ]
  },
  {
   "attachments": {},
   "cell_type": "markdown",
   "id": "d2560efa",
   "metadata": {},
   "source": [
    "## Pictorial representation(Project 1)\n",
    "![Picture1](Picture2.jpg)\n"
   ]
  },
  {
   "cell_type": "markdown",
   "id": "319290d9",
   "metadata": {},
   "source": [
    "## Project2\n",
    "### Pseudocode\n"
   ]
  },
  {
   "cell_type": "markdown",
   "id": "7e484789",
   "metadata": {},
   "source": [
    "###### INPUT int(x)\n",
    "###### INPUT int(y)\n",
    "###### INPUT int(z)\n",
    "###### COMPUTE f = x + y + z\n",
    "###### IF x = y and y = z and x = z:\n",
    "######        PRINT (3*f)\n",
    "###### ELSE:\n",
    "######        PRINT (f)"
   ]
  },
  {
   "cell_type": "code",
   "execution_count": 22,
   "id": "7b3c31f0",
   "metadata": {},
   "outputs": [
    {
     "name": "stdout",
     "output_type": "stream",
     "text": [
      "x:3\n",
      "y:3\n",
      "z:3\n",
      "27\n"
     ]
    }
   ],
   "source": [
    "x = int(input(\"x:\"))\n",
    "y = int(input(\"y:\"))\n",
    "z = int(input(\"z:\"))\n",
    "f = x + y + z\n",
    "if x == y and y == z and x == z:\n",
    "         print(3*f)\n",
    "else:\n",
    "         print(f)"
   ]
  },
  {
   "cell_type": "markdown",
   "id": "ec49e07a",
   "metadata": {},
   "source": [
    "# Pictorial representation(Project2)\n",
    "![Picture2](Picture3.jpg)"
   ]
  },
  {
   "cell_type": "markdown",
   "id": "bb858b61",
   "metadata": {},
   "source": [
    "## Project 3\n",
    "### Pseudocode"
   ]
  },
  {
   "cell_type": "markdown",
   "id": "b2f0303d",
   "metadata": {},
   "source": [
    "###### INPUT int(x) \n",
    "###### INPUT int(y)\n",
    "###### IF x = y or x + y = 5 or x - y = 5 or y - x = 5:\n",
    "###### PRINT True\n",
    "###### ELSE:\n",
    "###### PRINT False\n",
    "\n",
    "\n",
    "\n"
   ]
  },
  {
   "cell_type": "code",
   "execution_count": 23,
   "id": "89f1e1eb",
   "metadata": {},
   "outputs": [
    {
     "name": "stdout",
     "output_type": "stream",
     "text": [
      "x:3\n",
      "y:2\n",
      "True\n"
     ]
    }
   ],
   "source": [
    "x = int(input(\"x:\"))\n",
    "y = int(input(\"y:\"))\n",
    "if x == y or x + y == 5 or x - y == 5 or y - x == 5:\n",
    "    print(True)\n",
    "else:\n",
    "    print(False)"
   ]
  },
  {
   "cell_type": "markdown",
   "id": "f857b609",
   "metadata": {},
   "source": [
    "## Pictorial Representation(Project 3)\n",
    "![Picture3](Picture4.jpg)"
   ]
  },
  {
   "cell_type": "markdown",
   "id": "210621b6",
   "metadata": {},
   "source": [
    "## Project 4\n",
    "### Pseudocode\n",
    "###### COMPUTE max = 8\n",
    "###### COMPUTE min = 3\n",
    "###### COMPUTE middle = (max + min + 7) - max - min\n",
    "###### PRINT (middle) \n",
    "###### PRINT (max)\n",
    "###### PRINT (min)\n",
    "\n",
    "### Pictorial Image(Project 4)\n",
    "![Picture4](Picture5.jpg)"
   ]
  },
  {
   "cell_type": "code",
   "execution_count": 24,
   "id": "88955a96",
   "metadata": {},
   "outputs": [
    {
     "name": "stdout",
     "output_type": "stream",
     "text": [
      "7\n"
     ]
    }
   ],
   "source": [
    "max = 8\n",
    "min = 3\n",
    "middle = (max + min + 7) - max - min\n",
    "print(middle)"
   ]
  },
  {
   "cell_type": "markdown",
   "id": "f16cbf30",
   "metadata": {},
   "source": [
    "## PROJECT 5\n",
    "### Pseudocode\n",
    "###### DEF sum_of_cubes(n):\n",
    "###### IF n < 0:\n",
    "###### RAISE ValueError('n must be positive number!')\n",
    "###### RETURN n*n*(n*n-2*n+1)/4\n",
    "###### PRINT(\"Sum of cubes smaller than the specified number: \",sum_of_cubes(3))\n",
    "###### PRINT(\"Sum of cubes smaller than the specified number: \",sum_of_cubes(6))"
   ]
  },
  {
   "cell_type": "markdown",
   "id": "c617e7a6",
   "metadata": {},
   "source": [
    "## Project 5(Pictorial)\n",
    "![Picture5](Picture6.jpg)"
   ]
  },
  {
   "cell_type": "markdown",
   "id": "d9455732",
   "metadata": {},
   "source": [
    "## CODE PROJECT 5"
   ]
  },
  {
   "cell_type": "code",
   "execution_count": 15,
   "id": "70951b34",
   "metadata": {},
   "outputs": [
    {
     "name": "stdout",
     "output_type": "stream",
     "text": [
      "Sum of cubes smaller than the specified number:  1.0\n",
      "Sum of cubes smaller than the specified number:  100.0\n"
     ]
    }
   ],
   "source": [
    "def sum_of_cubes(n):\n",
    "   x = 7\n",
    "   n -= 6 and 5 and 4 and 3 and 2 and 1\n",
    "   if n < x:\n",
    "       return n*n*(n*n-2*n+1)/4\n",
    "print(\"Sum of cubes smaller than the specified number: \",sum_of_cubes(3))\n",
    "print(\"Sum of cubes smaller than the specified number: \",sum_of_cubes(6))"
   ]
  },
  {
   "cell_type": "code",
   "execution_count": null,
   "id": "aeabf2d4",
   "metadata": {},
   "outputs": [],
   "source": []
  }
 ],
 "metadata": {
  "kernelspec": {
   "display_name": "Python 3 (ipykernel)",
   "language": "python",
   "name": "python3"
  },
  "language_info": {
   "codemirror_mode": {
    "name": "ipython",
    "version": 3
   },
   "file_extension": ".py",
   "mimetype": "text/x-python",
   "name": "python",
   "nbconvert_exporter": "python",
   "pygments_lexer": "ipython3",
   "version": "3.9.7"
  }
 },
 "nbformat": 4,
 "nbformat_minor": 5
}
