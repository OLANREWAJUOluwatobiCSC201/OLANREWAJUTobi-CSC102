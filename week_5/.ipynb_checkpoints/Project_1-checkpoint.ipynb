{
 "cells": [
  {
   "cell_type": "markdown",
   "id": "b7ce81bb",
   "metadata": {},
   "source": [
    "# Avoids"
   ]
  },
  {
   "cell_type": "markdown",
   "id": "76700bb8",
   "metadata": {},
   "source": [
    "### Pseudocode\n",
    "##### INPUT word\n",
    "##### COMPUTE forbidden_word = \"nigeria\"\n",
    "##### IF word is in forbidden_word\n",
    "##### FALSE\n",
    "##### ELIF word is not in forbidden_word\n",
    "##### TRUE\n",
    "##### ELSE\n",
    "##### PRINT Error\n",
    "##### forbidden_word.count(word)"
   ]
  },
  {
   "cell_type": "code",
   "execution_count": 132,
   "id": "78e3db3e",
   "metadata": {},
   "outputs": [
    {
     "name": "stdout",
     "output_type": "stream",
     "text": [
      "What word would you like to use sir? nigeria\n",
      "True\n",
      "<enumerate object at 0x0000020A81A647C0>\n",
      "True\n",
      "<enumerate object at 0x0000020A81A64D40>\n",
      "True\n",
      "<enumerate object at 0x0000020A81A647C0>\n",
      "True\n",
      "<enumerate object at 0x0000020A81A64D40>\n",
      "False\n",
      "True\n",
      "<enumerate object at 0x0000020A81A647C0>\n",
      "False\n",
      "True\n"
     ]
    }
   ],
   "source": [
    "word = (input(\"What word would you like to use sir? \"))\n",
    "forbidden_word = [\"a\",\"t\",\"s\",\"y\",\"r\"]\n",
    "for c in word:\n",
    "    if c in forbidden_word:\n",
    "        print(\"False\")\n",
    "    elif c not in forbidden_word :\n",
    "        print(\"True\")\n",
    "        count\n",
    "    else:\n",
    "        print(\"Error\")\n",
    "print(x)\n"
   ]
  },
  {
   "cell_type": "code",
   "execution_count": null,
   "id": "dc1ad759",
   "metadata": {},
   "outputs": [],
   "source": []
  },
  {
   "cell_type": "raw",
   "id": "c1c9153b",
   "metadata": {},
   "source": []
  }
 ],
 "metadata": {
  "kernelspec": {
   "display_name": "Python 3 (ipykernel)",
   "language": "python",
   "name": "python3"
  },
  "language_info": {
   "codemirror_mode": {
    "name": "ipython",
    "version": 3
   },
   "file_extension": ".py",
   "mimetype": "text/x-python",
   "name": "python",
   "nbconvert_exporter": "python",
   "pygments_lexer": "ipython3",
   "version": "3.9.7"
  }
 },
 "nbformat": 4,
 "nbformat_minor": 5
}
