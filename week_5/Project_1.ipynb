{
 "cells": [
  {
   "cell_type": "markdown",
   "id": "97690788",
   "metadata": {},
   "source": [
    "# Avoids"
   ]
  },
  {
   "cell_type": "markdown",
   "id": "ac36e956",
   "metadata": {},
   "source": [
    "### Pseudocode\n",
    "##### INPUT word\n",
    "##### COMPUTE forbidden_word = \"nigeria\"\n",
    "##### IF word is in forbidden_word\n",
    "##### FALSE\n",
    "##### ELIF word is not in forbidden_word\n",
    "##### TRUE\n",
    "##### ELSE\n",
    "##### PRINT Error\n",
    "##### forbidden_word.count(word)"
   ]
  },
  {
   "cell_type": "code",
   "execution_count": 134,
   "id": "55c51073",
   "metadata": {},
   "outputs": [
    {
     "name": "stdout",
     "output_type": "stream",
     "text": [
      "What word would you like to use sir? niger\n",
      "True\n",
      "True\n",
      "True\n",
      "True\n",
      "False\n",
      "True\n"
     ]
    }
   ],
   "source": [
    "word = (input(\"What word would you like to use sir? \"))\n",
    "forbidden_word = [\"a\",\"t\",\"s\",\"y\",\"r\"]\n",
    "for c in word:\n",
    "    if c in forbidden_word:\n",
    "        print(\"False\")\n",
    "    elif c not in forbidden_word :\n",
    "        print(\"True\")\n",
    "    else:\n",
    "        print(\"Error\")\n",
    "print(x)\n"
   ]
  },
  {
   "cell_type": "code",
   "execution_count": null,
   "id": "d1fd5ccd",
   "metadata": {},
   "outputs": [],
   "source": []
  },
  {
   "cell_type": "raw",
   "id": "e2ee2a95",
   "metadata": {},
   "source": []
  }
 ],
 "metadata": {
  "kernelspec": {
   "display_name": "Python 3 (ipykernel)",
   "language": "python",
   "name": "python3"
  },
  "language_info": {
   "codemirror_mode": {
    "name": "ipython",
    "version": 3
   },
   "file_extension": ".py",
   "mimetype": "text/x-python",
   "name": "python",
   "nbconvert_exporter": "python",
   "pygments_lexer": "ipython3",
   "version": "3.9.7"
  }
 },
 "nbformat": 4,
 "nbformat_minor": 5
}
