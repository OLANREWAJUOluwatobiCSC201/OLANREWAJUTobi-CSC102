{
 "cells": [
  {
   "cell_type": "code",
   "execution_count": 6,
   "id": "450c806f",
   "metadata": {},
   "outputs": [],
   "source": [
    "from tabulate import tabulate"
   ]
  },
  {
   "cell_type": "code",
   "execution_count": 9,
   "id": "28e26c3b",
   "metadata": {
    "scrolled": true
   },
   "outputs": [
    {
     "name": "stdout",
     "output_type": "stream",
     "text": [
      "---------  ---  ------  ------\n",
      "Name       Age  Height  Scores\n",
      "Ann        14   5.5     80\n",
      "Jane       16   6       85\n",
      "Joan       14   5.4     70\n",
      "Claire     17   5.9     60\n",
      "Elizabeth  16   5.6     76\n",
      "---------  ---  ------  ------\n"
     ]
    }
   ],
   "source": [
    "table = [['Name','Age','Height','Scores'],['Ann',14,5.5,80],['Jane',16,6,85],['Joan',14,5.4,70],['Claire',17,5.9,60],['Elizabeth',16,5.6,76]]\n",
    "print(tabulate(table))"
   ]
  },
  {
   "cell_type": "markdown",
   "id": "80d81437",
   "metadata": {},
   "source": [
    "# PSEUDOCODE\n",
    "#### SET Name and Age and Height and Scores as header\n",
    "#### SET Ann and 14 and 5.5 and 80 as row 1\n",
    "#### SET Jane and 16 and 6 and 85 as row 2\n",
    "#### SET Joan and 14 and 5.4 and 70 as row 3\n",
    "#### SET Clare and 17 and 5.9 and 60 as row 4\n",
    "#### SET Elizabeth and 16 and 5.6 and 76 as row 5"
   ]
  },
  {
   "cell_type": "code",
   "execution_count": 26,
   "id": "a0e0be85",
   "metadata": {},
   "outputs": [],
   "source": []
  },
  {
   "cell_type": "code",
   "execution_count": 28,
   "id": "71dbd9df",
   "metadata": {},
   "outputs": [],
   "source": []
  },
  {
   "cell_type": "code",
   "execution_count": 29,
   "id": "d365f599",
   "metadata": {},
   "outputs": [
    {
     "data": {
      "text/html": [
       "<a download=\"data.csv\" href=\"data:text/csv;base64,LENvbCAxLENvbCAyDQowLDEsMg0KMSwzLDQNCg==\" target=\"_blank\">Download CSV file</a>"
      ],
      "text/plain": [
       "<IPython.core.display.HTML object>"
      ]
     },
     "execution_count": 29,
     "metadata": {},
     "output_type": "execute_result"
    }
   ],
   "source": []
  },
  {
   "cell_type": "code",
   "execution_count": null,
   "id": "47e4616c",
   "metadata": {},
   "outputs": [],
   "source": []
  }
 ],
 "metadata": {
  "kernelspec": {
   "display_name": "Python 3 (ipykernel)",
   "language": "python",
   "name": "python3"
  },
  "language_info": {
   "codemirror_mode": {
    "name": "ipython",
    "version": 3
   },
   "file_extension": ".py",
   "mimetype": "text/x-python",
   "name": "python",
   "nbconvert_exporter": "python",
   "pygments_lexer": "ipython3",
   "version": "3.9.7"
  }
 },
 "nbformat": 4,
 "nbformat_minor": 5
}
